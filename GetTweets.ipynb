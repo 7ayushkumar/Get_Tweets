{
 "cells": [
  {
   "cell_type": "code",
   "execution_count": 41,
   "metadata": {
    "collapsed": false
   },
   "outputs": [],
   "source": [
    "import re"
   ]
  },
  {
   "cell_type": "code",
   "execution_count": 42,
   "metadata": {
    "collapsed": true
   },
   "outputs": [],
   "source": [
    "import tweepy"
   ]
  },
  {
   "cell_type": "code",
   "execution_count": 48,
   "metadata": {
    "collapsed": true
   },
   "outputs": [],
   "source": [
    "import csv"
   ]
  },
  {
   "cell_type": "code",
   "execution_count": 49,
   "metadata": {
    "collapsed": true
   },
   "outputs": [],
   "source": [
    "import pandas as pd"
   ]
  },
  {
   "cell_type": "code",
   "execution_count": 50,
   "metadata": {
    "collapsed": false
   },
   "outputs": [],
   "source": [
    "CONSUMER_KEY = 'c4cOOivpIx2u9i415HXLgqbxL'\n",
    "CONSUMER_SECRET = 'ba7dQIGfAH0OMbkz6iVR5sq2e2iS8WBlzilnL09MZ5MQZAPcbU'\n",
    "ACCESS_TOKEN = '60263710-8ccRGLIH55ENveaLcVvam0j4kScMnfN7nklNdyBSL'\n",
    "ACCESS_TOKEN_SECRET = 'BGZ7AXmJ6dXIaQidtN2ZIUqMcTA22QZrzX3lnR4Rmmmmx'"
   ]
  },
  {
   "cell_type": "code",
   "execution_count": 57,
   "metadata": {
    "collapsed": true
   },
   "outputs": [],
   "source": [
    "auth = tweepy.OAuthHandler(CONSUMER_KEY, CONSUMER_SECRET)\n",
    "auth.set_access_token(ACCESS_TOKEN, ACCESS_TOKEN_SECRET)\n",
    "api = tweepy.API(auth,wait_on_rate_limit=True)"
   ]
  },
  {
   "cell_type": "code",
   "execution_count": 16,
   "metadata": {
    "collapsed": false
   },
   "outputs": [
    {
     "data": {
      "text/plain": [
       "Status(_api=<tweepy.api.API object at 0x104d683c8>, _json={'created_at': 'Sun Nov 12 02:21:59 +0000 2017', 'id': 929534708169326593, 'id_str': '929534708169326593', 'text': 'Tweeting through Python scripts, Check! #python #twitter #tweepy #datascience', 'truncated': False, 'entities': {'hashtags': [{'text': 'python', 'indices': [40, 47]}, {'text': 'twitter', 'indices': [48, 56]}, {'text': 'tweepy', 'indices': [57, 64]}, {'text': 'datascience', 'indices': [65, 77]}], 'symbols': [], 'user_mentions': [], 'urls': []}, 'source': '<a href=\"http://scoopmine.blogspot.com\" rel=\"nofollow\">demo_se_analysis</a>', 'in_reply_to_status_id': None, 'in_reply_to_status_id_str': None, 'in_reply_to_user_id': None, 'in_reply_to_user_id_str': None, 'in_reply_to_screen_name': None, 'user': {'id': 60263710, 'id_str': '60263710', 'name': 'Ayush Kumar', 'screen_name': '1ayush', 'location': 'New Delhi', 'description': 'live n let live', 'url': 'https://t.co/s4blpSWfuw', 'entities': {'url': {'urls': [{'url': 'https://t.co/s4blpSWfuw', 'expanded_url': 'http://scoopmine.blogspot.com', 'display_url': 'scoopmine.blogspot.com', 'indices': [0, 23]}]}, 'description': {'urls': []}}, 'protected': False, 'followers_count': 64, 'friends_count': 41, 'listed_count': 2, 'created_at': 'Sun Jul 26 08:13:58 +0000 2009', 'favourites_count': 48, 'utc_offset': 19800, 'time_zone': 'New Delhi', 'geo_enabled': True, 'verified': False, 'statuses_count': 281, 'lang': 'en', 'contributors_enabled': False, 'is_translator': False, 'is_translation_enabled': False, 'profile_background_color': 'C6E2EE', 'profile_background_image_url': 'http://abs.twimg.com/images/themes/theme2/bg.gif', 'profile_background_image_url_https': 'https://abs.twimg.com/images/themes/theme2/bg.gif', 'profile_background_tile': False, 'profile_image_url': 'http://pbs.twimg.com/profile_images/899435060096409600/wmQQuYbW_normal.jpg', 'profile_image_url_https': 'https://pbs.twimg.com/profile_images/899435060096409600/wmQQuYbW_normal.jpg', 'profile_banner_url': 'https://pbs.twimg.com/profile_banners/60263710/1492986225', 'profile_link_color': '1F98C7', 'profile_sidebar_border_color': 'C6E2EE', 'profile_sidebar_fill_color': 'DAECF4', 'profile_text_color': '663B12', 'profile_use_background_image': True, 'has_extended_profile': True, 'default_profile': False, 'default_profile_image': False, 'following': False, 'follow_request_sent': False, 'notifications': False, 'translator_type': 'none'}, 'geo': None, 'coordinates': None, 'place': None, 'contributors': None, 'is_quote_status': False, 'retweet_count': 0, 'favorite_count': 0, 'favorited': False, 'retweeted': False, 'lang': 'en'}, created_at=datetime.datetime(2017, 11, 12, 2, 21, 59), id=929534708169326593, id_str='929534708169326593', text='Tweeting through Python scripts, Check! #python #twitter #tweepy #datascience', truncated=False, entities={'hashtags': [{'text': 'python', 'indices': [40, 47]}, {'text': 'twitter', 'indices': [48, 56]}, {'text': 'tweepy', 'indices': [57, 64]}, {'text': 'datascience', 'indices': [65, 77]}], 'symbols': [], 'user_mentions': [], 'urls': []}, source='demo_se_analysis', source_url='http://scoopmine.blogspot.com', in_reply_to_status_id=None, in_reply_to_status_id_str=None, in_reply_to_user_id=None, in_reply_to_user_id_str=None, in_reply_to_screen_name=None, author=User(_api=<tweepy.api.API object at 0x104d683c8>, _json={'id': 60263710, 'id_str': '60263710', 'name': 'Ayush Kumar', 'screen_name': '1ayush', 'location': 'New Delhi', 'description': 'live n let live', 'url': 'https://t.co/s4blpSWfuw', 'entities': {'url': {'urls': [{'url': 'https://t.co/s4blpSWfuw', 'expanded_url': 'http://scoopmine.blogspot.com', 'display_url': 'scoopmine.blogspot.com', 'indices': [0, 23]}]}, 'description': {'urls': []}}, 'protected': False, 'followers_count': 64, 'friends_count': 41, 'listed_count': 2, 'created_at': 'Sun Jul 26 08:13:58 +0000 2009', 'favourites_count': 48, 'utc_offset': 19800, 'time_zone': 'New Delhi', 'geo_enabled': True, 'verified': False, 'statuses_count': 281, 'lang': 'en', 'contributors_enabled': False, 'is_translator': False, 'is_translation_enabled': False, 'profile_background_color': 'C6E2EE', 'profile_background_image_url': 'http://abs.twimg.com/images/themes/theme2/bg.gif', 'profile_background_image_url_https': 'https://abs.twimg.com/images/themes/theme2/bg.gif', 'profile_background_tile': False, 'profile_image_url': 'http://pbs.twimg.com/profile_images/899435060096409600/wmQQuYbW_normal.jpg', 'profile_image_url_https': 'https://pbs.twimg.com/profile_images/899435060096409600/wmQQuYbW_normal.jpg', 'profile_banner_url': 'https://pbs.twimg.com/profile_banners/60263710/1492986225', 'profile_link_color': '1F98C7', 'profile_sidebar_border_color': 'C6E2EE', 'profile_sidebar_fill_color': 'DAECF4', 'profile_text_color': '663B12', 'profile_use_background_image': True, 'has_extended_profile': True, 'default_profile': False, 'default_profile_image': False, 'following': False, 'follow_request_sent': False, 'notifications': False, 'translator_type': 'none'}, id=60263710, id_str='60263710', name='Ayush Kumar', screen_name='1ayush', location='New Delhi', description='live n let live', url='https://t.co/s4blpSWfuw', entities={'url': {'urls': [{'url': 'https://t.co/s4blpSWfuw', 'expanded_url': 'http://scoopmine.blogspot.com', 'display_url': 'scoopmine.blogspot.com', 'indices': [0, 23]}]}, 'description': {'urls': []}}, protected=False, followers_count=64, friends_count=41, listed_count=2, created_at=datetime.datetime(2009, 7, 26, 8, 13, 58), favourites_count=48, utc_offset=19800, time_zone='New Delhi', geo_enabled=True, verified=False, statuses_count=281, lang='en', contributors_enabled=False, is_translator=False, is_translation_enabled=False, profile_background_color='C6E2EE', profile_background_image_url='http://abs.twimg.com/images/themes/theme2/bg.gif', profile_background_image_url_https='https://abs.twimg.com/images/themes/theme2/bg.gif', profile_background_tile=False, profile_image_url='http://pbs.twimg.com/profile_images/899435060096409600/wmQQuYbW_normal.jpg', profile_image_url_https='https://pbs.twimg.com/profile_images/899435060096409600/wmQQuYbW_normal.jpg', profile_banner_url='https://pbs.twimg.com/profile_banners/60263710/1492986225', profile_link_color='1F98C7', profile_sidebar_border_color='C6E2EE', profile_sidebar_fill_color='DAECF4', profile_text_color='663B12', profile_use_background_image=True, has_extended_profile=True, default_profile=False, default_profile_image=False, following=False, follow_request_sent=False, notifications=False, translator_type='none'), user=User(_api=<tweepy.api.API object at 0x104d683c8>, _json={'id': 60263710, 'id_str': '60263710', 'name': 'Ayush Kumar', 'screen_name': '1ayush', 'location': 'New Delhi', 'description': 'live n let live', 'url': 'https://t.co/s4blpSWfuw', 'entities': {'url': {'urls': [{'url': 'https://t.co/s4blpSWfuw', 'expanded_url': 'http://scoopmine.blogspot.com', 'display_url': 'scoopmine.blogspot.com', 'indices': [0, 23]}]}, 'description': {'urls': []}}, 'protected': False, 'followers_count': 64, 'friends_count': 41, 'listed_count': 2, 'created_at': 'Sun Jul 26 08:13:58 +0000 2009', 'favourites_count': 48, 'utc_offset': 19800, 'time_zone': 'New Delhi', 'geo_enabled': True, 'verified': False, 'statuses_count': 281, 'lang': 'en', 'contributors_enabled': False, 'is_translator': False, 'is_translation_enabled': False, 'profile_background_color': 'C6E2EE', 'profile_background_image_url': 'http://abs.twimg.com/images/themes/theme2/bg.gif', 'profile_background_image_url_https': 'https://abs.twimg.com/images/themes/theme2/bg.gif', 'profile_background_tile': False, 'profile_image_url': 'http://pbs.twimg.com/profile_images/899435060096409600/wmQQuYbW_normal.jpg', 'profile_image_url_https': 'https://pbs.twimg.com/profile_images/899435060096409600/wmQQuYbW_normal.jpg', 'profile_banner_url': 'https://pbs.twimg.com/profile_banners/60263710/1492986225', 'profile_link_color': '1F98C7', 'profile_sidebar_border_color': 'C6E2EE', 'profile_sidebar_fill_color': 'DAECF4', 'profile_text_color': '663B12', 'profile_use_background_image': True, 'has_extended_profile': True, 'default_profile': False, 'default_profile_image': False, 'following': False, 'follow_request_sent': False, 'notifications': False, 'translator_type': 'none'}, id=60263710, id_str='60263710', name='Ayush Kumar', screen_name='1ayush', location='New Delhi', description='live n let live', url='https://t.co/s4blpSWfuw', entities={'url': {'urls': [{'url': 'https://t.co/s4blpSWfuw', 'expanded_url': 'http://scoopmine.blogspot.com', 'display_url': 'scoopmine.blogspot.com', 'indices': [0, 23]}]}, 'description': {'urls': []}}, protected=False, followers_count=64, friends_count=41, listed_count=2, created_at=datetime.datetime(2009, 7, 26, 8, 13, 58), favourites_count=48, utc_offset=19800, time_zone='New Delhi', geo_enabled=True, verified=False, statuses_count=281, lang='en', contributors_enabled=False, is_translator=False, is_translation_enabled=False, profile_background_color='C6E2EE', profile_background_image_url='http://abs.twimg.com/images/themes/theme2/bg.gif', profile_background_image_url_https='https://abs.twimg.com/images/themes/theme2/bg.gif', profile_background_tile=False, profile_image_url='http://pbs.twimg.com/profile_images/899435060096409600/wmQQuYbW_normal.jpg', profile_image_url_https='https://pbs.twimg.com/profile_images/899435060096409600/wmQQuYbW_normal.jpg', profile_banner_url='https://pbs.twimg.com/profile_banners/60263710/1492986225', profile_link_color='1F98C7', profile_sidebar_border_color='C6E2EE', profile_sidebar_fill_color='DAECF4', profile_text_color='663B12', profile_use_background_image=True, has_extended_profile=True, default_profile=False, default_profile_image=False, following=False, follow_request_sent=False, notifications=False, translator_type='none'), geo=None, coordinates=None, place=None, contributors=None, is_quote_status=False, retweet_count=0, favorite_count=0, favorited=False, retweeted=False, lang='en')"
      ]
     },
     "execution_count": 16,
     "metadata": {},
     "output_type": "execute_result"
    }
   ],
   "source": [
    "status = \"Tweeting through Python scripts, Check! #python #twitter #tweepy #datascience\"\n",
    "api.update_status(status=status)"
   ]
  },
  {
   "cell_type": "code",
   "execution_count": 62,
   "metadata": {
    "collapsed": false
   },
   "outputs": [],
   "source": [
    "csvFile = open(\"Tweets.csv\", 'a')"
   ]
  },
  {
   "cell_type": "code",
   "execution_count": 63,
   "metadata": {
    "collapsed": false
   },
   "outputs": [],
   "source": [
    "csvWriter = csv.writer(csvFile)"
   ]
  },
  {
   "cell_type": "code",
   "execution_count": 66,
   "metadata": {
    "collapsed": false
   },
   "outputs": [],
   "source": [
    "tweets=[]"
   ]
  },
  {
   "cell_type": "code",
   "execution_count": 67,
   "metadata": {
    "collapsed": false
   },
   "outputs": [],
   "source": [
    "for tweet in tweepy.Cursor(api.sear\n",
    "                           /-p;ch,q=\"#unitedAIRLINES\",count=100,\n",
    "                           lang=\"en\",\n",
    "                           since=\"2017-04-03\").items():\n",
    "    tweets.append(tweet)"
   ]
  },
  {
   "cell_type": "code",
   "execution_count": 68,
   "metadata": {
    "collapsed": true
   },
   "outputs": [],
   "source": [
    "tweets_df = pd.DataFrame(vars(tweets[i]) for i in range(len(tweets)))"
   ]
  },
  {
   "cell_type": "code",
   "execution_count": 65,
   "metadata": {
    "collapsed": false
   },
   "outputs": [
    {
     "data": {
      "text/plain": [
       "137"
      ]
     },
     "execution_count": 65,
     "metadata": {},
     "output_type": "execute_result"
    }
   ],
   "source": [
    "csvWriter.writerow([tweet.created_at, tweet.text.encode('utf-8')])"
   ]
  },
  {
   "cell_type": "code",
   "execution_count": 69,
   "metadata": {
    "collapsed": true
   },
   "outputs": [],
   "source": [
    "FILE_PATH=\"~/Downloads/Sentimental Analysis/Tweets.csv\""
   ]
  },
  {
   "cell_type": "code",
   "execution_count": 70,
   "metadata": {
    "collapsed": false
   },
   "outputs": [],
   "source": [
    "tweets_df.to_csv(FILE_PATH)"
   ]
  },
  {
   "cell_type": "code",
   "execution_count": null,
   "metadata": {
    "collapsed": true
   },
   "outputs": [],
   "source": []
  }
 ],
 "metadata": {
  "kernelspec": {
   "display_name": "Python 3",
   "language": "python",
   "name": "python3"
  },
  "language_info": {
   "codemirror_mode": {
    "name": "ipython",
    "version": 3
   },
   "file_extension": ".py",
   "mimetype": "text/x-python",
   "name": "python",
   "nbconvert_exporter": "python",
   "pygments_lexer": "ipython3",
   "version": "3.6.0"
  }
 },
 "nbformat": 4,
 "nbformat_minor": 2
}
